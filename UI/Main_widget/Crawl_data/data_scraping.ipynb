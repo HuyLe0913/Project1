{
 "cells": [
  {
   "cell_type": "code",
   "execution_count": 23,
   "metadata": {},
   "outputs": [],
   "source": [
    "import requests\n",
    "import pandas as pd\n",
    "from selenium import webdriver\n",
    "from selenium.webdriver.common.by import By\n",
    "from selenium.webdriver.edge.service import Service\n",
    "from selenium.webdriver.support.ui import WebDriverWait\n",
    "from selenium.webdriver.support import expected_conditions as EC\n",
    "import time"
   ]
  },
  {
   "cell_type": "markdown",
   "metadata": {},
   "source": [
    "#### API calls (WORLD BANK)"
   ]
  },
  {
   "cell_type": "code",
   "execution_count": 24,
   "metadata": {},
   "outputs": [],
   "source": [
    "def getData(url,name):\n",
    "    response = requests.get(url)\n",
    "    data = response.json()\n",
    "    data_list = []\n",
    "    for entry in data[1]:\n",
    "        if entry[\"value\"] is not None:\n",
    "            data_list.append({\n",
    "                \"Country\": entry[\"country\"][\"value\"],\n",
    "                \"Year\": entry[\"date\"],\n",
    "                name: entry[\"value\"]\n",
    "            })\n",
    "    data_df = pd.DataFrame(data_list)\n",
    "    print(data_df)\n",
    "    data_df.to_csv(f\"Data\\\\{name}.csv\", index=False)\n",
    "    "
   ]
  },
  {
   "cell_type": "code",
   "execution_count": 25,
   "metadata": {},
   "outputs": [],
   "source": [
    "def getUrl(code,num_page = 20000):\n",
    "    return f\"http://api.worldbank.org/v2/country/all/indicator/{code}?format=json&per_page={num_page}\""
   ]
  },
  {
   "cell_type": "code",
   "execution_count": 26,
   "metadata": {},
   "outputs": [],
   "source": [
    "population_url = getUrl(\"SP.POP.TOTL\")\n",
    "male_ratio_url = getUrl(\"SP.POP.TOTL.MA.ZS\")\n",
    "urban_population = getUrl(\"SP.URB.TOTL.IN.ZS\")\n",
    "gdp_url = getUrl(\"NY.GDP.PCAP.CD\")\n",
    "area_url = getUrl(\"AG.SRF.TOTL.K2\")\n",
    "old_url = getUrl(\"SP.POP.DPND.OL\")\n",
    "young_url = getUrl(\"SP.POP.DPND.YG\")\n",
    "life_url = getUrl(\"SP.DYN.LE00.IN\")"
   ]
  },
  {
   "cell_type": "code",
   "execution_count": 27,
   "metadata": {},
   "outputs": [
    {
     "name": "stdout",
     "output_type": "stream",
     "text": [
      "                           Country  Year  Population\n",
      "0      Africa Eastern and Southern  2023   739108306\n",
      "1      Africa Eastern and Southern  2022   720859132\n",
      "2      Africa Eastern and Southern  2021   702977106\n",
      "3      Africa Eastern and Southern  2020   685112979\n",
      "4      Africa Eastern and Southern  2019   667242986\n",
      "...                            ...   ...         ...\n",
      "16925                     Zimbabwe  1964     4310332\n",
      "16926                     Zimbabwe  1963     4177931\n",
      "16927                     Zimbabwe  1962     4049778\n",
      "16928                     Zimbabwe  1961     3925952\n",
      "16929                     Zimbabwe  1960     3806310\n",
      "\n",
      "[16930 rows x 3 columns]\n"
     ]
    }
   ],
   "source": [
    "getData(population_url,\"Population\")"
   ]
  },
  {
   "cell_type": "code",
   "execution_count": 28,
   "metadata": {},
   "outputs": [
    {
     "name": "stdout",
     "output_type": "stream",
     "text": [
      "                           Country  Year  Male Population Ratio\n",
      "0      Africa Eastern and Southern  2023              49.535786\n",
      "1      Africa Eastern and Southern  2022              49.527652\n",
      "2      Africa Eastern and Southern  2021              49.521084\n",
      "3      Africa Eastern and Southern  2020              49.513455\n",
      "4      Africa Eastern and Southern  2019              49.504007\n",
      "...                            ...   ...                    ...\n",
      "16955                     Zimbabwe  1964              49.407888\n",
      "16956                     Zimbabwe  1963              49.428126\n",
      "16957                     Zimbabwe  1962              49.449155\n",
      "16958                     Zimbabwe  1961              49.471720\n",
      "16959                     Zimbabwe  1960              49.496126\n",
      "\n",
      "[16960 rows x 3 columns]\n"
     ]
    }
   ],
   "source": [
    "getData(male_ratio_url,\"Male Population Ratio\")"
   ]
  },
  {
   "cell_type": "code",
   "execution_count": 29,
   "metadata": {},
   "outputs": [
    {
     "name": "stdout",
     "output_type": "stream",
     "text": [
      "                           Country  Year  Urban Population Ratio\n",
      "0      Africa Eastern and Southern  2023               38.335337\n",
      "1      Africa Eastern and Southern  2022               37.825158\n",
      "2      Africa Eastern and Southern  2021               37.323699\n",
      "3      Africa Eastern and Southern  2020               36.828302\n",
      "4      Africa Eastern and Southern  2019               36.336259\n",
      "...                            ...   ...                     ...\n",
      "16827                     Zimbabwe  1964               14.092000\n",
      "16828                     Zimbabwe  1963               13.578000\n",
      "16829                     Zimbabwe  1962               13.082000\n",
      "16830                     Zimbabwe  1961               12.821000\n",
      "16831                     Zimbabwe  1960               12.608000\n",
      "\n",
      "[16832 rows x 3 columns]\n"
     ]
    }
   ],
   "source": [
    "getData(urban_population,\"Urban Population Ratio\")"
   ]
  },
  {
   "cell_type": "code",
   "execution_count": 30,
   "metadata": {},
   "outputs": [
    {
     "name": "stdout",
     "output_type": "stream",
     "text": [
      "                           Country  Year  GDP_per_Capita\n",
      "0      Africa Eastern and Southern  2023     1672.505957\n",
      "1      Africa Eastern and Southern  2022     1642.432039\n",
      "2      Africa Eastern and Southern  2021     1545.956697\n",
      "3      Africa Eastern and Southern  2020     1356.088871\n",
      "4      Africa Eastern and Southern  2019     1508.486886\n",
      "...                            ...   ...             ...\n",
      "13979                     Zimbabwe  1964      282.376856\n",
      "13980                     Zimbabwe  1963      277.532515\n",
      "13981                     Zimbabwe  1962      275.966139\n",
      "13982                     Zimbabwe  1961      279.332656\n",
      "13983                     Zimbabwe  1960      276.643363\n",
      "\n",
      "[13984 rows x 3 columns]\n"
     ]
    }
   ],
   "source": [
    "getData(gdp_url,\"GDP_per_Capita\")"
   ]
  },
  {
   "cell_type": "code",
   "execution_count": 31,
   "metadata": {},
   "outputs": [
    {
     "name": "stdout",
     "output_type": "stream",
     "text": [
      "                           Country  Year  Total Area (sq km)\n",
      "0      Africa Eastern and Southern  2021        1.516201e+07\n",
      "1      Africa Eastern and Southern  2020        1.516201e+07\n",
      "2      Africa Eastern and Southern  2019        1.516205e+07\n",
      "3      Africa Eastern and Southern  2018        1.516204e+07\n",
      "4      Africa Eastern and Southern  2017        1.516204e+07\n",
      "...                            ...   ...                 ...\n",
      "15927                     Zimbabwe  1965        3.907600e+05\n",
      "15928                     Zimbabwe  1964        3.907600e+05\n",
      "15929                     Zimbabwe  1963        3.907600e+05\n",
      "15930                     Zimbabwe  1962        3.907600e+05\n",
      "15931                     Zimbabwe  1961        3.907600e+05\n",
      "\n",
      "[15932 rows x 3 columns]\n"
     ]
    }
   ],
   "source": [
    "getData(area_url,\"Total Area (sq km)\")"
   ]
  },
  {
   "cell_type": "code",
   "execution_count": 32,
   "metadata": {},
   "outputs": [
    {
     "name": "stdout",
     "output_type": "stream",
     "text": [
      "                           Country  Year  Retirement Age Dependency Ratio\n",
      "0      Africa Eastern and Southern  2023                         5.641678\n",
      "1      Africa Eastern and Southern  2022                         5.662353\n",
      "2      Africa Eastern and Southern  2021                         5.706199\n",
      "3      Africa Eastern and Southern  2020                         5.733111\n",
      "4      Africa Eastern and Southern  2019                         5.718424\n",
      "...                            ...   ...                              ...\n",
      "16925                     Zimbabwe  1964                         6.855007\n",
      "16926                     Zimbabwe  1963                         6.858850\n",
      "16927                     Zimbabwe  1962                         6.824991\n",
      "16928                     Zimbabwe  1961                         6.793782\n",
      "16929                     Zimbabwe  1960                         6.759052\n",
      "\n",
      "[16930 rows x 3 columns]\n"
     ]
    }
   ],
   "source": [
    "getData(old_url,\"Retirement Age Dependency Ratio\")"
   ]
  },
  {
   "cell_type": "code",
   "execution_count": 33,
   "metadata": {},
   "outputs": [
    {
     "name": "stdout",
     "output_type": "stream",
     "text": [
      "                           Country  Year  Young Age Dependency Ratio\n",
      "0      Africa Eastern and Southern  2023                   72.978971\n",
      "1      Africa Eastern and Southern  2022                   73.799990\n",
      "2      Africa Eastern and Southern  2021                   74.565149\n",
      "3      Africa Eastern and Southern  2020                   75.310862\n",
      "4      Africa Eastern and Southern  2019                   76.028564\n",
      "...                            ...   ...                         ...\n",
      "16925                     Zimbabwe  1964                  101.575828\n",
      "16926                     Zimbabwe  1963                  100.673025\n",
      "16927                     Zimbabwe  1962                   98.816809\n",
      "16928                     Zimbabwe  1961                   97.259899\n",
      "16929                     Zimbabwe  1960                   95.879938\n",
      "\n",
      "[16930 rows x 3 columns]\n"
     ]
    }
   ],
   "source": [
    "getData(young_url,\"Young Age Dependency Ratio\")"
   ]
  },
  {
   "cell_type": "code",
   "execution_count": 34,
   "metadata": {},
   "outputs": [
    {
     "name": "stdout",
     "output_type": "stream",
     "text": [
      "                           Country  Year  Life Expectancy\n",
      "0      Africa Eastern and Southern  2022        62.899031\n",
      "1      Africa Eastern and Southern  2021        62.454590\n",
      "2      Africa Eastern and Southern  2020        63.313860\n",
      "3      Africa Eastern and Southern  2019        63.755678\n",
      "4      Africa Eastern and Southern  2018        63.365863\n",
      "...                            ...   ...              ...\n",
      "16119                     Zimbabwe  1964        54.994000\n",
      "16120                     Zimbabwe  1963        54.549000\n",
      "16121                     Zimbabwe  1962        54.071000\n",
      "16122                     Zimbabwe  1961        53.619000\n",
      "16123                     Zimbabwe  1960        53.235000\n",
      "\n",
      "[16124 rows x 3 columns]\n"
     ]
    }
   ],
   "source": [
    "getData(life_url,\"Life Expectancy\")"
   ]
  },
  {
   "cell_type": "markdown",
   "metadata": {},
   "source": [
    "#### API Calls (WHO)"
   ]
  },
  {
   "cell_type": "code",
   "execution_count": 35,
   "metadata": {},
   "outputs": [],
   "source": [
    "who_url = \"https://ghoapi.azureedge.net/api/Indicator\"\n",
    "response = requests.get(who_url)\n",
    "\n",
    "indicators_df = pd.DataFrame(response.json()['value'])\n"
   ]
  },
  {
   "cell_type": "code",
   "execution_count": 36,
   "metadata": {},
   "outputs": [
    {
     "name": "stdout",
     "output_type": "stream",
     "text": [
      "            IndicatorCode                                      IndicatorName  \\\n",
      "141           NCD_BMI_18C  Prevalence of underweight among adults, BMI < ...   \n",
      "142           NCD_BMI_25C  Prevalence of overweight among adults, BMI &Gr...   \n",
      "143           NCD_BMI_30A  Prevalence of obesity among adults, BMI &Great...   \n",
      "151        NCD_BMI_PLUS1C  Prevalence of overweight among children and ad...   \n",
      "213           NCD_BMI_18A  Prevalence of underweight among adults, BMI < ...   \n",
      "214           NCD_BMI_30C  Prevalence of obesity among adults, BMI &Great...   \n",
      "215       NCD_BMI_MINUS2A  Prevalence of thinness among children and adol...   \n",
      "216       NCD_BMI_MINUS2C  Prevalence of thinness among children and adol...   \n",
      "302           NCD_BMI_25A  Prevalence of overweight among adults, BMI &Gr...   \n",
      "303        NCD_BMI_PLUS2A  Prevalence of obesity among children and adole...   \n",
      "379          NCD_BMI_MEAN       Mean BMI (kg/m²) (age-standardized estimate)   \n",
      "380         NCD_BMI_MEANC             Mean BMI (kg/m&#xb2;) (crude estimate)   \n",
      "381        NCD_BMI_PLUS1A  Prevalence of overweight among children and ad...   \n",
      "382        NCD_BMI_PLUS2C  Prevalence of obesity among children and adole...   \n",
      "693               obesewm  Obesity prevalence in non-pregnant women aged ...   \n",
      "2268  PRISON_F1_BMI25_TOT  In-prison people who have BMI >= 25 (number of...   \n",
      "2639              bmi30wm  Obesity prevalence in non-pregnant women aged ...   \n",
      "2813  PRISON_F1_BMI30_TOT  In-prison people who have BMI >= 30 (number of...   \n",
      "\n",
      "     Language  \n",
      "141        EN  \n",
      "142        EN  \n",
      "143        EN  \n",
      "151        EN  \n",
      "213        EN  \n",
      "214        EN  \n",
      "215        EN  \n",
      "216        EN  \n",
      "302        EN  \n",
      "303        EN  \n",
      "379        EN  \n",
      "380        EN  \n",
      "381        EN  \n",
      "382        EN  \n",
      "693        EN  \n",
      "2268       EN  \n",
      "2639       EN  \n",
      "2813       EN  \n"
     ]
    }
   ],
   "source": [
    "bmi_indicators_df = indicators_df[indicators_df['IndicatorName'].str.contains('bmi', case=False)]\n",
    "print(bmi_indicators_df)"
   ]
  },
  {
   "cell_type": "code",
   "execution_count": 37,
   "metadata": {},
   "outputs": [
    {
     "name": "stdout",
     "output_type": "stream",
     "text": [
      "Data for NCD_BMI_MEAN:\n",
      "            Id IndicatorCode SpatialDimType SpatialDim ParentLocationCode  \\\n",
      "0      5105245  NCD_BMI_MEAN        COUNTRY        AUS                WPR   \n",
      "1          661  NCD_BMI_MEAN        COUNTRY        IRQ                EMR   \n",
      "2          730  NCD_BMI_MEAN        COUNTRY        LAO                WPR   \n",
      "3         1296  NCD_BMI_MEAN         REGION        AMR               None   \n",
      "4         1886  NCD_BMI_MEAN        COUNTRY        ARG                AMR   \n",
      "...        ...           ...            ...        ...                ...   \n",
      "25818  9311809  NCD_BMI_MEAN        COUNTRY        ARG                AMR   \n",
      "25819  9311841  NCD_BMI_MEAN        COUNTRY        GRC                EUR   \n",
      "25820  9312394  NCD_BMI_MEAN        COUNTRY        COG                AFR   \n",
      "25821  9312987  NCD_BMI_MEAN        COUNTRY        ARM                EUR   \n",
      "25822  9313258  NCD_BMI_MEAN        COUNTRY        PAK                EMR   \n",
      "\n",
      "      TimeDimType         ParentLocation Dim1Type      Dim1  TimeDim  ...  \\\n",
      "0            YEAR        Western Pacific      SEX   SEX_MLE     1996  ...   \n",
      "1            YEAR  Eastern Mediterranean      SEX  SEX_BTSX     1983  ...   \n",
      "2            YEAR        Western Pacific      SEX   SEX_MLE     2002  ...   \n",
      "3            YEAR                   None      SEX  SEX_FMLE     1997  ...   \n",
      "4            YEAR               Americas      SEX  SEX_FMLE     2012  ...   \n",
      "...           ...                    ...      ...       ...      ...  ...   \n",
      "25818        YEAR               Americas      SEX  SEX_FMLE     1988  ...   \n",
      "25819        YEAR                 Europe      SEX  SEX_BTSX     2014  ...   \n",
      "25820        YEAR                 Africa      SEX  SEX_BTSX     1992  ...   \n",
      "25821        YEAR                 Europe      SEX  SEX_BTSX     2003  ...   \n",
      "25822        YEAR  Eastern Mediterranean      SEX  SEX_FMLE     2008  ...   \n",
      "\n",
      "      DataSourceDim             Value NumericValue   Low  High Comments  \\\n",
      "0              None  26.2 [25.9-26.5]         26.2  25.9  26.5     None   \n",
      "1              None  25.4 [24.1-26.6]         25.4  24.1  26.6     None   \n",
      "2              None  21.1 [20.1-22.1]         21.1  20.1  22.1     None   \n",
      "3              None  26.1 [25.9-26.3]         26.1  25.9  26.3     None   \n",
      "4              None  27.1 [26.3-28.0]         27.1  26.3  28.0     None   \n",
      "...             ...               ...          ...   ...   ...      ...   \n",
      "25818          None  24.8 [23.8-25.8]         24.8  23.8  25.8     None   \n",
      "25819          None  27.1 [26.3-27.9]         27.1  26.3  27.9     None   \n",
      "25820          None  21.4 [20.8-22.0]         21.4  20.8  22.0     None   \n",
      "25821          None  25.8 [25.3-26.2]         25.8  25.3  26.2     None   \n",
      "25822          None  23.8 [23.4-24.3]         23.8  23.4  24.3     None   \n",
      "\n",
      "                            Date  TimeDimensionValue  \\\n",
      "0      2017-09-27T15:27:55+02:00                1996   \n",
      "1      2017-09-27T15:20:14+02:00                1983   \n",
      "2      2017-09-27T15:30:08+02:00                2002   \n",
      "3      2017-09-27T14:14:20+02:00                1997   \n",
      "4      2017-09-27T15:23:15+02:00                2012   \n",
      "...                          ...                 ...   \n",
      "25818  2017-09-27T15:23:14+02:00                1988   \n",
      "25819  2017-09-27T15:19:55+02:00                2014   \n",
      "25820  2017-09-27T15:19:11+02:00                1992   \n",
      "25821  2017-09-27T15:18:30+02:00                2003   \n",
      "25822  2017-09-27T15:26:19+02:00                2008   \n",
      "\n",
      "              TimeDimensionBegin           TimeDimensionEnd  \n",
      "0      1996-01-01T00:00:00+01:00  1996-12-31T00:00:00+01:00  \n",
      "1      1983-01-01T00:00:00+01:00  1983-12-31T00:00:00+01:00  \n",
      "2      2002-01-01T00:00:00+01:00  2002-12-31T00:00:00+01:00  \n",
      "3      1997-01-01T00:00:00+01:00  1997-12-31T00:00:00+01:00  \n",
      "4      2012-01-01T00:00:00+01:00  2012-12-31T00:00:00+01:00  \n",
      "...                          ...                        ...  \n",
      "25818  1988-01-01T00:00:00+01:00  1988-12-31T00:00:00+01:00  \n",
      "25819  2014-01-01T00:00:00+01:00  2014-12-31T00:00:00+01:00  \n",
      "25820  1992-01-01T00:00:00+01:00  1992-12-31T00:00:00+01:00  \n",
      "25821  2003-01-01T00:00:00+01:00  2003-12-31T00:00:00+01:00  \n",
      "25822  2008-01-01T00:00:00+01:00  2008-12-31T00:00:00+01:00  \n",
      "\n",
      "[25823 rows x 25 columns]\n"
     ]
    }
   ],
   "source": [
    "bmi_indicator_code = 'NCD_BMI_MEAN'\n",
    "bmi_url = f\"https://ghoapi.azureedge.net/api/{bmi_indicator_code}\"\n",
    "response = requests.get(bmi_url)\n",
    "data = response.json()\n",
    "bmi_data_df = pd.DataFrame(data['value'])\n",
    "print(\"Data for NCD_BMI_MEAN:\")\n",
    "print(bmi_data_df)\n",
    "bmi_data_df.to_csv(\"Data\\\\bmi_data.csv\")"
   ]
  },
  {
   "cell_type": "markdown",
   "metadata": {},
   "source": [
    "#### Scrape using Selenium"
   ]
  },
  {
   "cell_type": "code",
   "execution_count": 39,
   "metadata": {},
   "outputs": [],
   "source": [
    "webdriver_path = r\"edgedriver_win64\\\\msedgedriver.exe\"  # replace with actual path\n",
    "service = Service(webdriver_path)\n",
    "options = webdriver.EdgeOptions()\n",
    "driver = webdriver.Edge(service=service, options=options)"
   ]
  },
  {
   "cell_type": "code",
   "execution_count": 106,
   "metadata": {},
   "outputs": [
    {
     "name": "stdout",
     "output_type": "stream",
     "text": [
      "                            Country ISO3 Code\n",
      "0                       Afghanistan  AFG  004\n",
      "1                           Albania  ALB  008\n",
      "2                           Algeria  DZA  012\n",
      "3                    American Samoa  ASM  016\n",
      "4                           Andorra  AND  020\n",
      "..                              ...  ...  ...\n",
      "259                     Yemen, Rep.  YEM  887\n",
      "260                      Yugoslavia  SER  891\n",
      "261  Yugoslavia, FR (Serbia/Montene  YUG  890\n",
      "262                          Zambia  ZMB  894\n",
      "263                        Zimbabwe  ZWE  716\n",
      "\n",
      "[264 rows x 3 columns]\n"
     ]
    }
   ],
   "source": [
    "country_code_url = \"https://wits.worldbank.org/wits/wits/witshelp/content/codes/country_codes.htm\"\n",
    "driver.get(country_code_url)\n",
    "time.sleep(5)\n",
    "WebDriverWait(driver, 10).until(EC.presence_of_element_located((By.CSS_SELECTOR, 'table.wt1')))\n",
    "\n",
    "table = driver.find_element(By.CSS_SELECTOR, 'table.wt1')\n",
    "\n",
    "rows = table.find_elements(By.TAG_NAME, 'tr')\n",
    "data = []\n",
    "for row in rows[2:]:\n",
    "    cols = [col.text for col in row.find_elements(By.TAG_NAME, 'td')]\n",
    "    if cols:  # Check if cols is not empty\n",
    "        data.append(cols)\n",
    "df = pd.DataFrame(data, columns=[\"Country\",\"ISO3\",\"Code\"])\n",
    "print(df)\n",
    "df.to_csv(\"Data\\\\country_codes.csv\", index=False)"
   ]
  },
  {
   "cell_type": "code",
   "execution_count": 53,
   "metadata": {},
   "outputs": [
    {
     "name": "stdout",
     "output_type": "stream",
     "text": [
      "                             Country/area                              2024\n",
      "0                             Afghanistan         Central and Southern Asia\n",
      "1                           Aland Islands       Europe and Northern America\n",
      "2                                 Albania       Europe and Northern America\n",
      "3                                 Algeria  Northern Africa and Western Asia\n",
      "4                          American Samoa                           Oceania\n",
      "..                                    ...                               ...\n",
      "243                                Zambia                Sub-Saharan Africa\n",
      "244                              Zimbabwe                Sub-Saharan Africa\n",
      "245                                 Other                                  \n",
      "246                Svalbard and Jan Mayen       Europe and Northern America\n",
      "247  United States Minor Outlying Islands                           Oceania\n",
      "\n",
      "[248 rows x 2 columns]\n"
     ]
    }
   ],
   "source": [
    "sdg_url = \"https://ourworldindata.org/grapher/world-regions-sdg-united-nations?tab=table\"\n",
    "driver.get(sdg_url)\n",
    "time.sleep(5)\n",
    "table = driver.find_element(By.CLASS_NAME, 'table-wrapper')\n",
    "headers = [header.text for header in table.find_elements(By.TAG_NAME, 'th')]\n",
    "\n",
    "rows = table.find_elements(By.TAG_NAME, 'tr')\n",
    "data = []\n",
    "for row in rows[1:]:\n",
    "    cols = [col.text for col in row.find_elements(By.TAG_NAME, 'td')]\n",
    "    data.append(cols)\n",
    "\n",
    "df = pd.DataFrame(data, columns=headers)\n",
    "print(df)\n",
    "df.to_csv(\"Data\\\\world_regions_sdg.csv\", index=False)\n"
   ]
  },
  {
   "cell_type": "code",
   "execution_count": 58,
   "metadata": {},
   "outputs": [
    {
     "name": "stdout",
     "output_type": "stream",
     "text": [
      "Reached the last page or encountered an error: Message: element not interactable\n",
      "  (Session info: MicrosoftEdge=130.0.2849.46)\n",
      "Stacktrace:\n",
      "\tGetHandleVerifier [0x00007FF66C46D095+12933]\n",
      "\tMicrosoft::Applications::Events::EventProperty::empty [0x00007FF66C72FE14+2285364]\n",
      "\t(No symbol) [0x00007FF66C2154AA]\n",
      "\t(No symbol) [0x00007FF66C25AA9B]\n",
      "\t(No symbol) [0x00007FF66C250D7B]\n",
      "\t(No symbol) [0x00007FF66C27847A]\n",
      "\t(No symbol) [0x00007FF66C2505A7]\n",
      "\t(No symbol) [0x00007FF66C25046D]\n",
      "\t(No symbol) [0x00007FF66C278760]\n",
      "\t(No symbol) [0x00007FF66C2505A7]\n",
      "\t(No symbol) [0x00007FF66C2913B1]\n",
      "\t(No symbol) [0x00007FF66C2780E3]\n",
      "\t(No symbol) [0x00007FF66C24FAE4]\n",
      "\t(No symbol) [0x00007FF66C24EF90]\n",
      "\t(No symbol) [0x00007FF66C24F6D1]\n",
      "\tMicrosoft::Applications::Events::EventProperty::empty [0x00007FF66C604764+1058948]\n",
      "\tMicrosoft::Applications::Events::EventProperty::~EventProperty [0x00007FF66C3766B4+56500]\n",
      "\tMicrosoft::Applications::Events::EventProperty::empty [0x00007FF66C603763+1054851]\n",
      "\tMicrosoft::Applications::Events::EventProperty::empty [0x00007FF66C6033C9+1053929]\n",
      "\tMicrosoft::Applications::Events::ILogConfiguration::operator* [0x00007FF66C4039E1+428481]\n",
      "\tMicrosoft::Applications::Events::ILogConfiguration::operator* [0x00007FF66C3FFC94+412788]\n",
      "\tMicrosoft::Applications::Events::ILogConfiguration::operator* [0x00007FF66C3FFDD9+413113]\n",
      "\tMicrosoft::Applications::Events::ILogConfiguration::operator* [0x00007FF66C3F5A06+371174]\n",
      "\tBaseThreadInitThunk [0x00007FF90950257D+29]\n",
      "\tRtlUserThreadStart [0x00007FF909E2AF08+40]\n",
      "\n",
      "                         Country or Area Year(s) Variant     Value\n",
      "0      ADB region: Central and West Asia    2024  Medium   40.5426\n",
      "1      ADB region: Central and West Asia    2023  Medium   41.4171\n",
      "2      ADB region: Central and West Asia    2022  Medium    42.623\n",
      "3      ADB region: Central and West Asia    2021  Medium   43.7888\n",
      "4      ADB region: Central and West Asia    2020  Medium   45.1888\n",
      "...                                  ...     ...     ...       ...\n",
      "41620                           Zimbabwe    1954  Medium   97.4984\n",
      "41621                           Zimbabwe    1953  Medium   98.8629\n",
      "41622                           Zimbabwe    1952  Medium  100.2368\n",
      "41623                           Zimbabwe    1951  Medium  101.6271\n",
      "41624                           Zimbabwe    1950  Medium  103.0278\n",
      "\n",
      "[41625 rows x 4 columns]\n"
     ]
    }
   ],
   "source": [
    "infant_url = r\"https://data.un.org/Data.aspx?q=infant&d=PopDiv&f=variableID%3a77\"\n",
    "driver.get(infant_url)\n",
    "\n",
    "wait = WebDriverWait(driver, 10)\n",
    "wait.until(EC.presence_of_element_located((By.CSS_SELECTOR, 'div.DataContainer')))\n",
    "checkboxes = driver.find_elements(By.CSS_SELECTOR, \"input[type='checkbox'][value]\")\n",
    "\n",
    "for checkbox in checkboxes:\n",
    "    try:\n",
    "        year = int(checkbox.get_attribute('name'))\n",
    "    except ValueError as e:\n",
    "        continue\n",
    "    if year <= 2024:\n",
    "        if not checkbox.is_selected():\n",
    "            driver.execute_script(\"arguments[0].scrollIntoView(true);\", checkbox)\n",
    "            time.sleep(1)\n",
    "            checkbox.click()\n",
    "\n",
    "\n",
    "apply_filters_link = driver.find_element(By.ID, \"ctl00_main_filters_anchorApplyBottom\")\n",
    "apply_filters_link.click()\n",
    "\n",
    "time.sleep(5) \n",
    "all_data = []\n",
    "def scrape_table():\n",
    "    data_container = driver.find_element(By.CSS_SELECTOR, 'div.DataContainer')\n",
    "    headers = [header.text for header in data_container.find_elements(By.TAG_NAME, 'th')]\n",
    "    rows = data_container.find_elements(By.TAG_NAME, 'tr')\n",
    "    page_data = []\n",
    "    for row in rows[1:]:\n",
    "        cols = [col.text for col in row.find_elements(By.TAG_NAME, 'td')]\n",
    "        page_data.append(cols)\n",
    "    \n",
    "    return headers, page_data\n",
    "\n",
    "while True:\n",
    "    headers, page_data = scrape_table()\n",
    "    all_data.extend(page_data)\n",
    "    try:\n",
    "        next_button = driver.find_element(By.ID, \"linkNextB\")\n",
    "        if 'disabled' in next_button.get_attribute('class'):\n",
    "            break\n",
    "        next_button.click()\n",
    "        time.sleep(5)\n",
    "    except Exception as e:\n",
    "        print(f\"Reached the last page or encountered an error: {e}\")\n",
    "        break\n",
    "\n",
    "df = pd.DataFrame(all_data, columns=headers)\n",
    "print(df)\n",
    "df.to_csv(\"Data\\\\Infant Mortality.csv\", index=False)\n",
    "driver.quit()\n"
   ]
  }
 ],
 "metadata": {
  "kernelspec": {
   "display_name": "Python 3",
   "language": "python",
   "name": "python3"
  },
  "language_info": {
   "codemirror_mode": {
    "name": "ipython",
    "version": 3
   },
   "file_extension": ".py",
   "mimetype": "text/x-python",
   "name": "python",
   "nbconvert_exporter": "python",
   "pygments_lexer": "ipython3",
   "version": "3.11.5"
  }
 },
 "nbformat": 4,
 "nbformat_minor": 2
}
